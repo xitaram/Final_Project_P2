{
 "cells": [
  {
   "cell_type": "code",
   "execution_count": 11,
   "metadata": {},
   "outputs": [
    {
     "name": "stdout",
     "output_type": "stream",
     "text": [
      "Found 14 PNG files:\n",
      "  - Aggregate_Bank_Asset_Composition.png\n",
      "  - Aggregate_Bank_Liability_Composition.png\n",
      "  - MBS_Price_Data_Over_Time.png\n",
      "  - MBS_Trading_Volume_Over_Time.png\n",
      "  - S&P_Treasury_Bond_Series_Over_Time.png\n",
      "  - S&P_U.S._Treasury_Bond_Index_Over_Time.png\n",
      "  - Securities_Composition_by_Bank_Size.png\n",
      "  - Treasury_Correlation_Heatmap.png\n",
      "  - figure_a1.1.png\n",
      "  - figure_a1.2.png\n",
      "  - iShares_Treasury_Bond_ETFs_Over_Time.png\n",
      "  - table_1.png\n",
      "  - table_a1.1.png\n",
      "  - table_a1.2.png\n",
      "LaTeX document saved as bank_analysis.tex\n"
     ]
    },
    {
     "data": {
      "text/markdown": [
       "## LaTeX Document Structure Preview"
      ],
      "text/plain": [
       "<IPython.core.display.Markdown object>"
      ]
     },
     "metadata": {},
     "output_type": "display_data"
    },
    {
     "data": {
      "text/markdown": [
       "The LaTeX document has been generated with the following sections:"
      ],
      "text/plain": [
       "<IPython.core.display.Markdown object>"
      ]
     },
     "metadata": {},
     "output_type": "display_data"
    },
    {
     "data": {
      "text/markdown": [
       "1. Introduction"
      ],
      "text/plain": [
       "<IPython.core.display.Markdown object>"
      ]
     },
     "metadata": {},
     "output_type": "display_data"
    },
    {
     "data": {
      "text/markdown": [
       "2. Methodology and Data Sources"
      ],
      "text/plain": [
       "<IPython.core.display.Markdown object>"
      ]
     },
     "metadata": {},
     "output_type": "display_data"
    },
    {
     "data": {
      "text/markdown": [
       "3. Data Acquisition Challenges"
      ],
      "text/plain": [
       "<IPython.core.display.Markdown object>"
      ]
     },
     "metadata": {},
     "output_type": "display_data"
    },
    {
     "data": {
      "text/markdown": [
       "4. Structured Data Processing"
      ],
      "text/plain": [
       "<IPython.core.display.Markdown object>"
      ]
     },
     "metadata": {},
     "output_type": "display_data"
    },
    {
     "data": {
      "text/markdown": [
       "5. Analytical Challenges"
      ],
      "text/plain": [
       "<IPython.core.display.Markdown object>"
      ]
     },
     "metadata": {},
     "output_type": "display_data"
    },
    {
     "data": {
      "text/markdown": [
       "6. Figures and Tables"
      ],
      "text/plain": [
       "<IPython.core.display.Markdown object>"
      ]
     },
     "metadata": {},
     "output_type": "display_data"
    },
    {
     "data": {
      "text/markdown": [
       "## PNG Files Included in the Document (in display order)"
      ],
      "text/plain": [
       "<IPython.core.display.Markdown object>"
      ]
     },
     "metadata": {},
     "output_type": "display_data"
    },
    {
     "data": {
      "text/markdown": [
       "1. **Aggregate_Bank_Asset_Composition.png** (Original Fig. 1): Aggregate Bank Asset Composition."
      ],
      "text/plain": [
       "<IPython.core.display.Markdown object>"
      ]
     },
     "metadata": {},
     "output_type": "display_data"
    },
    {
     "data": {
      "text/markdown": [
       "2. **Aggregate_Bank_Liability_Composition.png** (Original Fig. 2): Aggregate Bank Liability Composition."
      ],
      "text/plain": [
       "<IPython.core.display.Markdown object>"
      ]
     },
     "metadata": {},
     "output_type": "display_data"
    },
    {
     "data": {
      "text/markdown": [
       "3. **MBS_Price_Data_Over_Time.png** (Original Fig. 3): MBS Price Data Over Time."
      ],
      "text/plain": [
       "<IPython.core.display.Markdown object>"
      ]
     },
     "metadata": {},
     "output_type": "display_data"
    },
    {
     "data": {
      "text/markdown": [
       "4. **MBS_Trading_Volume_Over_Time.png** (Original Fig. 4): MBS Trading Volume Over Time."
      ],
      "text/plain": [
       "<IPython.core.display.Markdown object>"
      ]
     },
     "metadata": {},
     "output_type": "display_data"
    },
    {
     "data": {
      "text/markdown": [
       "5. **S&P_Treasury_Bond_Series_Over_Time.png** (Original Fig. 5): S&P Treasury Bond Series Over Time."
      ],
      "text/plain": [
       "<IPython.core.display.Markdown object>"
      ]
     },
     "metadata": {},
     "output_type": "display_data"
    },
    {
     "data": {
      "text/markdown": [
       "6. **S&P_U.S._Treasury_Bond_Index_Over_Time.png** (Original Fig. 6): S&P U.S. Treasury Bond Index Over Time."
      ],
      "text/plain": [
       "<IPython.core.display.Markdown object>"
      ]
     },
     "metadata": {},
     "output_type": "display_data"
    },
    {
     "data": {
      "text/markdown": [
       "7. **Securities_Composition_by_Bank_Size.png** (Original Fig. 7): Securities Composition by Bank Size."
      ],
      "text/plain": [
       "<IPython.core.display.Markdown object>"
      ]
     },
     "metadata": {},
     "output_type": "display_data"
    },
    {
     "data": {
      "text/markdown": [
       "8. **Treasury_Correlation_Heatmap.png** (Original Fig. 8): Treasury Correlation Heatmap."
      ],
      "text/plain": [
       "<IPython.core.display.Markdown object>"
      ]
     },
     "metadata": {},
     "output_type": "display_data"
    },
    {
     "data": {
      "text/markdown": [
       "9. **iShares_Treasury_Bond_ETFs_Over_Time.png** (Original Fig. 11): IShares Treasury Bond ETFs Over Time."
      ],
      "text/plain": [
       "<IPython.core.display.Markdown object>"
      ]
     },
     "metadata": {},
     "output_type": "display_data"
    },
    {
     "data": {
      "text/markdown": [
       "10. **figure_a1.1.png** (Original Fig. 9): Figure a1.1."
      ],
      "text/plain": [
       "<IPython.core.display.Markdown object>"
      ]
     },
     "metadata": {},
     "output_type": "display_data"
    },
    {
     "data": {
      "text/markdown": [
       "11. **figure_a1.2.png** (Original Fig. 10): Figure a1.2."
      ],
      "text/plain": [
       "<IPython.core.display.Markdown object>"
      ]
     },
     "metadata": {},
     "output_type": "display_data"
    },
    {
     "data": {
      "text/markdown": [
       "12. **table_1.png** (Original Fig. 12): Table 1."
      ],
      "text/plain": [
       "<IPython.core.display.Markdown object>"
      ]
     },
     "metadata": {},
     "output_type": "display_data"
    },
    {
     "data": {
      "text/markdown": [
       "13. **table_a1.1.png** (Original Fig. 13): Table a1.1."
      ],
      "text/plain": [
       "<IPython.core.display.Markdown object>"
      ]
     },
     "metadata": {},
     "output_type": "display_data"
    },
    {
     "data": {
      "text/markdown": [
       "14. **table_a1.2.png** (Original Fig. 14): Table a1.2."
      ],
      "text/plain": [
       "<IPython.core.display.Markdown object>"
      ]
     },
     "metadata": {},
     "output_type": "display_data"
    },
    {
     "data": {
      "text/markdown": [
       "## Compilation Instructions"
      ],
      "text/plain": [
       "<IPython.core.display.Markdown object>"
      ]
     },
     "metadata": {},
     "output_type": "display_data"
    },
    {
     "data": {
      "text/markdown": [
       "To compile the LaTeX document:"
      ],
      "text/plain": [
       "<IPython.core.display.Markdown object>"
      ]
     },
     "metadata": {},
     "output_type": "display_data"
    },
    {
     "data": {
      "text/markdown": [
       "```bash\n",
       "pdflatex bank_analysis.tex\n",
       "```"
      ],
      "text/plain": [
       "<IPython.core.display.Markdown object>"
      ]
     },
     "metadata": {},
     "output_type": "display_data"
    },
    {
     "data": {
      "text/markdown": [
       "For better bibliography support, run:"
      ],
      "text/plain": [
       "<IPython.core.display.Markdown object>"
      ]
     },
     "metadata": {},
     "output_type": "display_data"
    },
    {
     "data": {
      "text/markdown": [
       "```bash\n",
       "pdflatex bank_analysis.tex\n",
       "bibtex bank_analysis\n",
       "pdflatex bank_analysis.tex\n",
       "pdflatex bank_analysis.tex\n",
       "```"
      ],
      "text/plain": [
       "<IPython.core.display.Markdown object>"
      ]
     },
     "metadata": {},
     "output_type": "display_data"
    }
   ],
   "source": [
    "import os\n",
    "import re\n",
    "from IPython.display import display, Markdown\n",
    "import glob\n",
    "\n",
    "# Function to find all PNG files in the current directory\n",
    "def find_png_files():\n",
    "    # Find all PNG files\n",
    "    png_files = glob.glob(\"*.png\")\n",
    "    return sorted(png_files)\n",
    "\n",
    "# Generate a caption based on the filename\n",
    "def generate_caption(filename):\n",
    "    # Remove file extension and replace underscores with spaces\n",
    "    base_name = os.path.splitext(filename)[0]\n",
    "    caption = base_name.replace('_', ' ')\n",
    "    \n",
    "    # Apply some basic formatting to make it look like a proper caption\n",
    "    caption = caption.strip()\n",
    "    if not caption[0].isupper():\n",
    "        caption = caption[0].upper() + caption[1:]\n",
    "    \n",
    "    # If caption doesn't end with period, add one\n",
    "    if not caption.endswith('.'):\n",
    "        caption += '.'\n",
    "    \n",
    "    return caption\n",
    "\n",
    "# Define the structure of the LaTeX document\n",
    "def create_latex_document():\n",
    "    # Get list of PNG files\n",
    "    png_files = find_png_files()\n",
    "    \n",
    "    if not png_files:\n",
    "        print(\"Warning: No PNG files found in the current directory.\")\n",
    "    \n",
    "    # LaTeX preamble with necessary packages\n",
    "    latex_code = r'''\n",
    "\\documentclass[12pt]{article}\n",
    "\\usepackage[utf8]{inputenc}\n",
    "\\usepackage[margin=1in]{geometry}\n",
    "\\usepackage{graphicx}\n",
    "\\usepackage{booktabs}\n",
    "\\usepackage{longtable}\n",
    "\\usepackage{caption}\n",
    "\\usepackage{subcaption}\n",
    "\\usepackage{float}\n",
    "\\usepackage{hyperref}\n",
    "\\usepackage{amsmath}\n",
    "\\usepackage{natbib}\n",
    "\\usepackage{setspace}\n",
    "\\usepackage{xcolor}\n",
    "\n",
    "\\title{Bank Asset Composition and Treasury Securities Analysis}\n",
    "\\author{Financial Research Team}\n",
    "\\date{\\today}\n",
    "\n",
    "\\begin{document}\n",
    "\n",
    "\\maketitle\n",
    "\n",
    "\\begin{abstract}\n",
    "This report presents a comprehensive analysis of bank asset compositions, liability structures, and treasury securities performance from 2019 to 2024. Using data from various financial institutions, we examine the relationships between different bank sizes, their portfolio compositions, and market trends. The analysis includes visualizations of asset allocations, liability distributions, treasury bond ETF correlations, and mortgage-backed securities performance. Our findings provide insights into banking sector stability, investment patterns, and potential risk factors based on Q1 2022 data and subsequent market movements.\n",
    "\\end{abstract}\n",
    "\n",
    "\\section{Introduction}\n",
    "Banking asset composition and liability structure analysis provides critical insights into financial institution stability and market exposure. This report examines detailed breakdowns of asset allocations across different bank size categories, with particular focus on treasury securities, real estate loans, and mortgage-backed securities (MBS). Understanding these relationships is essential for assessing systemic risk within the banking sector and identifying potential vulnerabilities during market volatility periods.\n",
    "\n",
    "\\section{Methodology and Data Sources}\n",
    "'''\n",
    "\n",
    "    # First part of the analysis paragraph\n",
    "    latex_code += r'''\n",
    "Overcoming Data Challenges and Leveraging Automated Solutions in Financial Analysis\n",
    "\n",
    "Throughout this project, our primary challenges revolved around the complexities of data acquisition and processing. Many of our data sources were incomplete or inconsistent, requiring us to develop creative solutions to ensure accuracy and reliability. Key columns were often missing, data sets lacked sufficient population, and minor discrepancies in values had a significant impact on our calculations. What initially appeared to be a straightforward analysis quickly became an intricate process of troubleshooting and refinement.\n",
    "\n",
    "\\section{Data Acquisition Challenges}\n",
    "'''\n",
    "\n",
    "    # Second part of the analysis paragraph\n",
    "    latex_code += r'''\n",
    "One of our most pressing issues was obtaining reliable Treasury Index data. To address this, we leveraged Selenium to automate web scraping directly from the S\\&P Global website, ensuring we had access to the most up-to-date information. This approach not only allowed us to capture real-time data efficiently but also incorporated automation into our workflow, reducing manual errors and improving data integrity.\n",
    "\n",
    "Similarly, we found success in extracting mortgage-backed securities (MBS) ETF data using yfinance. This tool provided an effective means of retrieving historical and real-time market data directly from Yahoo Finance, streamlining our ability to analyze trends and correlations within MBS performance. By integrating yfinance into our pipeline, we automated data retrieval, ensuring that our dataset remained current and comprehensive.\n",
    "\n",
    "\\section{Structured Data Processing}\n",
    "'''\n",
    "\n",
    "    # Third part of the analysis paragraph\n",
    "    latex_code += r'''\n",
    "A critical component of our analysis involved accessing detailed bank call report information through Wharton Research Data Services (WRDS). WRDS provided a structured and reliable way to extract specific financial variables from regulatory filings, particularly the RCON and RCFD series, which contain essential banking metrics. Through WRDS's SQL interface, we obtained standardized data that allowed for rigorous time series analysis. This approach enabled us to systematically examine regulatory financial data across multiple institutions, capturing significant trends and patterns in bank performance over time.\n",
    "\n",
    "One of the advantages of using WRDS was its ability to structure and store data efficiently. The system's capability to pull live data and store it in an optimized Parquet format facilitated our subsequent in-depth analysis of financial indicators and their relationships. However, we encountered an issue with the RCON Series 1 data, where key columns were missing from the WRDS-provided dataset. To overcome this, we manually parsed a Parquet file to extract the necessary information, ensuring that our analysis remained comprehensive and accurate. Despite this challenge, WRDS proved invaluable in obtaining the majority of our required data seamlessly.\n",
    "\n",
    "\\section{Analytical Challenges}\n",
    "'''\n",
    "\n",
    "    # Fourth part of the analysis paragraph\n",
    "    latex_code += r'''\n",
    "Beyond data retrieval, we faced difficulties in performing precise calculations due to slight variations in data points, which could easily skew results. This required us to spend significant time dissecting the numbers, validating our methodology, and refining our calculations. While financial papers often presented these computations as straightforward, the reality involved meticulous verification and cross-referencing.\n",
    "\n",
    "Ultimately, the combination of web scraping, API-driven data retrieval, and structured SQL queries provided us with a robust framework for tackling these challenges. By integrating these tools, we ensured both the accuracy and efficiency of our data pipeline, allowing for a deeper and more reliable analysis. The experience highlighted the importance of adaptability in working with financial data and reinforced our ability to develop automated solutions for complex data environments.\n",
    "\n",
    "\\newpage\n",
    "\n",
    "\\section{Figures and Tables}\n",
    "'''\n",
    "\n",
    "    # Custom order for figures\n",
    "    # We'll reorder to make figures 9 and 10 appear after figure 11\n",
    "    reordered_files = []\n",
    "    \n",
    "    # First, process figures excluding 9, 10, and 11\n",
    "    for i, png_file in enumerate(png_files):\n",
    "        figure_number = i + 1\n",
    "        # Skip figures 9, 10, and 11 for now\n",
    "        if figure_number not in [9, 10, 11]:\n",
    "            reordered_files.append(png_file)\n",
    "        # Insert figure 11 when we reach it\n",
    "        elif figure_number == 11:\n",
    "            reordered_files.append(png_file)  # This is figure 11\n",
    "            # Then add figures 9 and 10 right after 11\n",
    "            if len(png_files) >= 10:\n",
    "                reordered_files.append(png_files[8])  # Figure 9\n",
    "            if len(png_files) >= 11:\n",
    "                reordered_files.append(png_files[9])  # Figure 10\n",
    "    \n",
    "    # If figures 9 or 10 exist but figure 11 doesn't, add them at the end\n",
    "    if len(png_files) >= 9 and len(reordered_files) < len(png_files) - 2:\n",
    "        if len(png_files) >= 9:\n",
    "            if png_files[8] not in reordered_files:\n",
    "                reordered_files.append(png_files[8])\n",
    "        if len(png_files) >= 10:\n",
    "            if png_files[9] not in reordered_files:\n",
    "                reordered_files.append(png_files[9])\n",
    "    \n",
    "    # Add all figures in the custom order\n",
    "    for png_file in reordered_files:\n",
    "        caption = generate_caption(png_file)\n",
    "        label = f\"fig:{os.path.splitext(png_file)[0]}\"\n",
    "        \n",
    "        latex_code += f'''\n",
    "\\\\begin{{figure}}[H]\n",
    "\\\\centering\n",
    "\\\\includegraphics[width=0.8\\\\textwidth]{{{png_file}}}\n",
    "\\\\caption{{{caption}}}\n",
    "\\\\label{{{label}}}\n",
    "\\\\end{{figure}}\n",
    "\n",
    "'''\n",
    "\n",
    "    # Close the document\n",
    "    latex_code += r'''\n",
    "\\end{document}\n",
    "'''\n",
    "\n",
    "    return latex_code\n",
    "\n",
    "# Function to save the LaTeX document\n",
    "def save_latex_document(latex_code, filename='bank_analysis.tex'):\n",
    "    with open(filename, 'w', encoding='utf-8') as f:\n",
    "        f.write(latex_code)\n",
    "    print(f\"LaTeX document saved as {filename}\")\n",
    "    return filename\n",
    "\n",
    "# Main execution\n",
    "def main():\n",
    "    # Get list of PNG files\n",
    "    png_files = find_png_files()\n",
    "    \n",
    "    if not png_files:\n",
    "        print(\"No PNG files found in the current directory.\")\n",
    "        return\n",
    "    \n",
    "    print(f\"Found {len(png_files)} PNG files:\")\n",
    "    for png in png_files:\n",
    "        print(f\"  - {png}\")\n",
    "    \n",
    "    # Generate and save the LaTeX document\n",
    "    latex_content = create_latex_document()\n",
    "    tex_filename = save_latex_document(latex_content)\n",
    "    \n",
    "    # Display a preview of the document structure\n",
    "    display(Markdown(\"## LaTeX Document Structure Preview\"))\n",
    "    display(Markdown(\"The LaTeX document has been generated with the following sections:\"))\n",
    "    display(Markdown(\"1. Introduction\"))\n",
    "    display(Markdown(\"2. Methodology and Data Sources\"))\n",
    "    display(Markdown(\"3. Data Acquisition Challenges\"))\n",
    "    display(Markdown(\"4. Structured Data Processing\"))\n",
    "    display(Markdown(\"5. Analytical Challenges\"))\n",
    "    display(Markdown(\"6. Figures and Tables\"))\n",
    "    \n",
    "    # Display information about the PNG files used in reordered sequence\n",
    "    reordered_indices = []\n",
    "    regular_indices = list(range(len(png_files)))\n",
    "    \n",
    "    # Create the reordered list of indices\n",
    "    if len(png_files) >= 11:\n",
    "        # Move figures 9 and 10 to after 11\n",
    "        for i in range(len(png_files)):\n",
    "            if i != 8 and i != 9 and i != 10:  # Not 9, 10, or 11\n",
    "                reordered_indices.append(i)\n",
    "            elif i == 10:  # This is figure 11\n",
    "                reordered_indices.append(i)\n",
    "                reordered_indices.append(8)  # Figure 9\n",
    "                reordered_indices.append(9)  # Figure 10\n",
    "    else:\n",
    "        # Not enough files for reordering\n",
    "        reordered_indices = regular_indices\n",
    "    \n",
    "    display(Markdown(\"## PNG Files Included in the Document (in display order)\"))\n",
    "    for i, idx in enumerate(reordered_indices):\n",
    "        if idx < len(png_files):\n",
    "            png = png_files[idx]\n",
    "            caption = generate_caption(png)\n",
    "            # Display the original figure number and the new order\n",
    "            original_num = idx + 1\n",
    "            display(Markdown(f\"{i+1}. **{png}** (Original Fig. {original_num}): {caption}\"))\n",
    "    \n",
    "    # Display compilation instructions\n",
    "    display(Markdown(\"## Compilation Instructions\"))\n",
    "    display(Markdown(\"To compile the LaTeX document:\"))\n",
    "    display(Markdown(\"```bash\\npdflatex bank_analysis.tex\\n```\"))\n",
    "    display(Markdown(\"For better bibliography support, run:\"))\n",
    "    display(Markdown(\"```bash\\npdflatex bank_analysis.tex\\nbibtex bank_analysis\\npdflatex bank_analysis.tex\\npdflatex bank_analysis.tex\\n```\"))\n",
    "\n",
    "# Execute the main function\n",
    "if __name__ == \"__main__\":\n",
    "    main()"
   ]
  }
 ],
 "metadata": {
  "kernelspec": {
   "display_name": "base",
   "language": "python",
   "name": "python3"
  },
  "language_info": {
   "codemirror_mode": {
    "name": "ipython",
    "version": 3
   },
   "file_extension": ".py",
   "mimetype": "text/x-python",
   "name": "python",
   "nbconvert_exporter": "python",
   "pygments_lexer": "ipython3",
   "version": "3.11.5"
  }
 },
 "nbformat": 4,
 "nbformat_minor": 2
}
